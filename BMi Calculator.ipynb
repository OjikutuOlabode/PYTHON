{
 "cells": [
  {
   "cell_type": "markdown",
   "id": "07eefa6b-9785-4fd1-8922-c5b1592b8a23",
   "metadata": {},
   "source": [
    "BMi CALCULATOR"
   ]
  },
  {
   "cell_type": "code",
   "execution_count": null,
   "id": "f8c08ac4-1a68-49f0-a1d3-4eb76f90d7f0",
   "metadata": {},
   "outputs": [],
   "source": [
    "# BMi CALCULATOR\n",
    "Name = input(\"Enter your name: \")\n",
    "weight = float(input(\"Enter your weight in kilogram: \"))\n",
    "height = float(input(\"Enter your height in metres: \"))\n",
    "BMi = (weight)/(height**2)\n",
    "print (BMi)\n",
    "if BMi>0:\n",
    "    if (BMi<18.5):\n",
    "        print (Name + \" , you are Underweight.\")\n",
    "    elif (BMi<=24.9):\n",
    "        print (Name + \", your weight is Normal.\")\n",
    "    elif (BMi<29.9):\n",
    "        print (Name + \" , you are Overweight.\")\n",
    "    elif (BMi<34.9):\n",
    "        print (Name + \" , you are Obese.\")\n",
    "    elif (BMi<39.9):\n",
    "        print (Name + \" , you are Severely Obese.\")\n",
    "    else:\n",
    "        print (Name + \" , you are Morbidly Obese .\")\n",
    "else:\n",
    "    print (Name + \" , please enter a valid input.\")\n"
   ]
  },
  {
   "cell_type": "code",
   "execution_count": null,
   "id": "833d4ba0-8df7-41f0-af35-d7f94a71244c",
   "metadata": {},
   "outputs": [],
   "source": []
  },
  {
   "cell_type": "code",
   "execution_count": null,
   "id": "5787b656-6451-4a67-b5f8-6db078446704",
   "metadata": {},
   "outputs": [],
   "source": []
  },
  {
   "cell_type": "code",
   "execution_count": null,
   "id": "c91f2e7a-0756-4dde-91e0-935894982752",
   "metadata": {},
   "outputs": [],
   "source": []
  },
  {
   "cell_type": "code",
   "execution_count": null,
   "id": "a0ee8486-a859-47e9-b718-305683dd8fa9",
   "metadata": {},
   "outputs": [],
   "source": []
  }
 ],
 "metadata": {
  "kernelspec": {
   "display_name": "Python 3 (ipykernel)",
   "language": "python",
   "name": "python3"
  },
  "language_info": {
   "codemirror_mode": {
    "name": "ipython",
    "version": 3
   },
   "file_extension": ".py",
   "mimetype": "text/x-python",
   "name": "python",
   "nbconvert_exporter": "python",
   "pygments_lexer": "ipython3",
   "version": "3.11.7"
  }
 },
 "nbformat": 4,
 "nbformat_minor": 5
}
