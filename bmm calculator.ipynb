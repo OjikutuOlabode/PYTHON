{
 "cells": [
  {
   "cell_type": "markdown",
   "id": "07eefa6b-9785-4fd1-8922-c5b1592b8a23",
   "metadata": {},
   "source": [
    "BMi CALCULATOR"
   ]
  },
  {
   "cell_type": "code",
   "execution_count": 56,
   "id": "d9e84e6f-7ff7-420a-9c01-c5ca2026afdb",
   "metadata": {
    "tags": []
   },
   "outputs": [
    {
     "name": "stdin",
     "output_type": "stream",
     "text": [
      "Enter your name:  BOLANLE\n",
      "Enter your weight in kilogram:  74\n",
      "Enter your height in metres:  1.62\n"
     ]
    },
    {
     "name": "stdout",
     "output_type": "stream",
     "text": [
      "28.19692120103642\n",
      "BOLANLE , you are Overweight.\n"
     ]
    }
   ],
   "source": [
    "# BMi CALCULATOR\n",
    "Name = input(\"Enter your name: \")\n",
    "weight = float(input(\"Enter your weight in kilogram: \"))\n",
    "height = float(input(\"Enter your height in metres: \"))\n",
    "BMi = (weight)/(height**2)\n",
    "print (BMi)\n",
    "if BMi>0:\n",
    "    if (BMi<18.5):\n",
    "        print (Name + \" , you are Underweight.\")\n",
    "    elif (BMi<=24.9):\n",
    "        print (Name + \", your weight is Normal.\")\n",
    "    elif (BMi<29.9):\n",
    "        print (Name + \" , you are Overweight.\")\n",
    "    elif (BMi<34.9):\n",
    "        print (Name + \" , you are Obese.\")\n",
    "    elif (BMi<39.9):\n",
    "        print (Name + \" , you are Severely Obese.\")\n",
    "    else:\n",
    "        print (Name + \" , you are Morbidly Obese .\")\n",
    "else:\n",
    "    print (Name + \" , please enter a valid input.\")\n"
   ]
  },
  {
   "cell_type": "code",
   "execution_count": null,
   "id": "f8c08ac4-1a68-49f0-a1d3-4eb76f90d7f0",
   "metadata": {},
   "outputs": [],
   "source": []
  },
  {
   "cell_type": "code",
   "execution_count": 26,
   "id": "7b91c836-7aa3-4105-aebb-5ee6657ec17f",
   "metadata": {
    "tags": []
   },
   "outputs": [
    {
     "data": {
      "text/plain": [
       "27.815881725346742"
      ]
     },
     "execution_count": 26,
     "metadata": {},
     "output_type": "execute_result"
    }
   ],
   "source": [
    "73/1.62**2"
   ]
  },
  {
   "cell_type": "code",
   "execution_count": null,
   "id": "833d4ba0-8df7-41f0-af35-d7f94a71244c",
   "metadata": {},
   "outputs": [],
   "source": []
  },
  {
   "cell_type": "code",
   "execution_count": 10,
   "id": "5ba18bdc-9196-4f2e-8938-ce00639ae777",
   "metadata": {
    "tags": []
   },
   "outputs": [
    {
     "ename": "TypeError",
     "evalue": "can't multiply sequence by non-int of type 'str'",
     "output_type": "error",
     "traceback": [
      "\u001b[1;31m---------------------------------------------------------------------------\u001b[0m",
      "\u001b[1;31mTypeError\u001b[0m                                 Traceback (most recent call last)",
      "Cell \u001b[1;32mIn[10], line 1\u001b[0m\n\u001b[1;32m----> 1\u001b[0m BMi \u001b[38;5;241m=\u001b[39m (weight \u001b[38;5;241m*\u001b[39m \u001b[38;5;241m703\u001b[39m) \u001b[38;5;241m/\u001b[39m (height \u001b[38;5;241m*\u001b[39m height)\n",
      "\u001b[1;31mTypeError\u001b[0m: can't multiply sequence by non-int of type 'str'"
     ]
    }
   ],
   "source": [
    "Below 18.5 ======Underweight\n",
    "18.5-25 ======= Normal\n",
    "25-30 =======Overweight\n",
    "Over 30 =======Obese"
   ]
  },
  {
   "cell_type": "code",
   "execution_count": null,
   "id": "5787b656-6451-4a67-b5f8-6db078446704",
   "metadata": {},
   "outputs": [],
   "source": []
  },
  {
   "cell_type": "code",
   "execution_count": null,
   "id": "ff0751cf-ca2a-4e3b-a80e-d24bbc689518",
   "metadata": {},
   "outputs": [],
   "source": [
    "#BMI = kg/m2 where kg is a person's weight in kilograms and m2 is their height in metres squared"
   ]
  },
  {
   "cell_type": "code",
   "execution_count": null,
   "id": "c91f2e7a-0756-4dde-91e0-935894982752",
   "metadata": {},
   "outputs": [],
   "source": []
  },
  {
   "cell_type": "code",
   "execution_count": null,
   "id": "a0ee8486-a859-47e9-b718-305683dd8fa9",
   "metadata": {},
   "outputs": [],
   "source": []
  }
 ],
 "metadata": {
  "kernelspec": {
   "display_name": "Python 3 (ipykernel)",
   "language": "python",
   "name": "python3"
  },
  "language_info": {
   "codemirror_mode": {
    "name": "ipython",
    "version": 3
   },
   "file_extension": ".py",
   "mimetype": "text/x-python",
   "name": "python",
   "nbconvert_exporter": "python",
   "pygments_lexer": "ipython3",
   "version": "3.11.7"
  }
 },
 "nbformat": 4,
 "nbformat_minor": 5
}
