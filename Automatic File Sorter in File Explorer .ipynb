{
 "cells": [
  {
   "cell_type": "code",
   "execution_count": null,
   "id": "566e42fc-0e03-4855-b960-ab2f2b2cd2cc",
   "metadata": {},
   "outputs": [],
   "source": [
    "Automatic file sorter "
   ]
  },
  {
   "cell_type": "code",
   "execution_count": 58,
   "id": "fc3fc97a-d347-45b4-8967-68e70c79614d",
   "metadata": {
    "tags": []
   },
   "outputs": [],
   "source": [
    "import os, shutil\n",
    "path = r\"C:/Users/HP/Desktop/Olabode/python tutorial/\"\n",
    "file_name = os.listdir(path) # shows files in the path\n",
    "folder_names = ['Doc files','image files','Excel files'] \n",
    "for loop in range(0,3):\n",
    "    if not os.path.exists(path + folder_names[loop]):\n",
    "        os.makedirs((path + folder_names[loop]))\n",
    "for file in file_name:\n",
    "    if \".docx\" in file and not os.path.exists(path + \"Doc files/\" + file):\n",
    "        shutil.move(path + file, path + \"Doc files/\" + file)\n",
    "    if \".jpg\" in file and not os.path.exists(path + \"image files/\" + file):\n",
    "        shutil.move(path + file, path + \"image files/\" + file)\n",
    "    if \".JPEG\" in file and not os.path.exists(path + \"image files/\" + file):\n",
    "        shutil.move(path + file, path + \"image files/\" + file)\n",
    "    if \".PNG\" in file and not os.path.exists(path + \"image files/\" + file):\n",
    "        shutil.move(path + file, path + \"image files/\" + file)\n",
    "    if \".xls\" in file and not os.path.exists(path + \"Excel files/\" + file):\n",
    "        shutil.move(path + file, path + \"Excel files/\" + file)"
   ]
  },
  {
   "cell_type": "code",
   "execution_count": null,
   "id": "07d12aae-e547-4a03-8b40-546bcbe34908",
   "metadata": {},
   "outputs": [],
   "source": []
  },
  {
   "cell_type": "code",
   "execution_count": null,
   "id": "579bf34e-3ef5-4f73-a684-7ef008bbf1cc",
   "metadata": {},
   "outputs": [],
   "source": [
    " \n"
   ]
  }
 ],
 "metadata": {
  "kernelspec": {
   "display_name": "Python 3 (ipykernel)",
   "language": "python",
   "name": "python3"
  },
  "language_info": {
   "codemirror_mode": {
    "name": "ipython",
    "version": 3
   },
   "file_extension": ".py",
   "mimetype": "text/x-python",
   "name": "python",
   "nbconvert_exporter": "python",
   "pygments_lexer": "ipython3",
   "version": "3.11.7"
  }
 },
 "nbformat": 4,
 "nbformat_minor": 5
}
