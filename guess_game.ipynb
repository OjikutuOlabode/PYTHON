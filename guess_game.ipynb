{
 "cells": [
  {
   "cell_type": "code",
   "execution_count": null,
   "id": "8502c9f2-6594-43b3-b372-70e066956625",
   "metadata": {},
   "outputs": [],
   "source": [
    "# This is a Guess the Number game\n",
    "import randomguessesTaken = 0\n",
    "\n",
    "print('Hello! What is your name?')\n",
    "myName = input()\n",
    "\n",
    "number = random.randint(1, 20)\n",
    "print('Well, ' + myName + ', I am thinking of a number between 1 and 20.')\n",
    "\n",
    "for guessesTaken in range(6):\n",
    "    print('Take a guess.') # Four spaces in front of print\n",
    "    guess = input()\n",
    "    guess = int(guess)\n",
    "    \n",
    "    if guess < number:\n",
    "        print('Your guess is too low.') # Eight spaces in front of print\n",
    "        \n",
    "    if guess > number:\n",
    "        print('Your guess is too high.')\n",
    "        \n",
    "    if guess == number:\n",
    "        break\n",
    "        \n",
    "if guess == number:\n",
    "    guessesTaken = str(guessesTaken + 1)\n",
    "    print('Good job, ' + myName + '! You guessed my number in ' + guessesTaken + ' guesses!')\n",
    "    \n",
    "if guess != number:\n",
    "    number = str(number)\n",
    "    print('Nope. The number I was thinking of was ' + number + '.')"
   ]
  },
  {
   "cell_type": "code",
   "execution_count": null,
   "id": "87197b99-5e7a-4ff6-8db7-85028f39b699",
   "metadata": {},
   "outputs": [],
   "source": []
  }
 ],
 "metadata": {
  "kernelspec": {
   "display_name": "Python 3 (ipykernel)",
   "language": "python",
   "name": "python3"
  },
  "language_info": {
   "codemirror_mode": {
    "name": "ipython",
    "version": 3
   },
   "file_extension": ".py",
   "mimetype": "text/x-python",
   "name": "python",
   "nbconvert_exporter": "python",
   "pygments_lexer": "ipython3",
   "version": "3.11.7"
  }
 },
 "nbformat": 4,
 "nbformat_minor": 5
}
